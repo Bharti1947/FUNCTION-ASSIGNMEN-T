{
  "nbformat": 4,
  "nbformat_minor": 0,
  "metadata": {
    "colab": {
      "provenance": []
    },
    "kernelspec": {
      "name": "python3",
      "display_name": "Python 3"
    },
    "language_info": {
      "name": "python"
    }
  },
  "cells": [
    {
      "cell_type": "markdown",
      "source": [
        "**Question 1**. Write a function that takes a list of numbers as input and returns the sum of all even numbers in the list.\n"
      ],
      "metadata": {
        "id": "lX-CTnu7wmBn"
      }
    },
    {
      "cell_type": "code",
      "execution_count": null,
      "metadata": {
        "id": "RAWoaWdlrqYc"
      },
      "outputs": [],
      "source": [
        "def sum_even(l):\n",
        "  return sum(l)\n",
        "\n",
        "def even(n):\n",
        "  l = []\n",
        "  for i in n:\n",
        "    if i%2==0:\n",
        "      l.append(i)\n",
        "  return sum(l)\n"
      ]
    },
    {
      "cell_type": "code",
      "source": [
        "a = [1, 2, 3, 4, 8, 5, 2,13, 0, 18, 20]\n",
        "even(a)\n"
      ],
      "metadata": {
        "colab": {
          "base_uri": "https://localhost:8080/"
        },
        "id": "4A8ILUU9uCqt",
        "outputId": "2ea76c93-366a-4dad-b5e8-ec564d25cd0c"
      },
      "execution_count": null,
      "outputs": [
        {
          "output_type": "execute_result",
          "data": {
            "text/plain": [
              "54"
            ]
          },
          "metadata": {},
          "execution_count": 2
        }
      ]
    },
    {
      "cell_type": "markdown",
      "source": [
        "**Question 2.** Create a Python function that accepts a string and returns the reverse of that string."
      ],
      "metadata": {
        "id": "fn7S3WTpXXxC"
      }
    },
    {
      "cell_type": "code",
      "source": [
        "def string(a):\n",
        "  return a[::-1]\n",
        "string(\"I am intersted in learning Data Analytics\")"
      ],
      "metadata": {
        "colab": {
          "base_uri": "https://localhost:8080/",
          "height": 55
        },
        "id": "kx-_XgXbYPVk",
        "outputId": "fc6d1b74-0306-49c5-ee89-9553617e161b"
      },
      "execution_count": null,
      "outputs": [
        {
          "output_type": "execute_result",
          "data": {
            "text/plain": [
              "'scitylanA ataD gninrael ni detsretni ma I'"
            ],
            "application/vnd.google.colaboratory.intrinsic+json": {
              "type": "string"
            }
          },
          "metadata": {},
          "execution_count": 3
        }
      ]
    },
    {
      "cell_type": "markdown",
      "source": [
        "**Question 3.** Implement a python function that takes a list of integers and returns a new list containing the squares of numbers."
      ],
      "metadata": {
        "id": "aKhkDPNxx1ip"
      }
    },
    {
      "cell_type": "code",
      "source": [
        "def square(n):\n",
        "  l = []\n",
        "  for i in n:\n",
        "    if type(i) == int:\n",
        "        l.append(i**2)\n",
        "  return l"
      ],
      "metadata": {
        "id": "nhIDvXz4uODM"
      },
      "execution_count": null,
      "outputs": []
    },
    {
      "cell_type": "code",
      "source": [
        "b = [5,10,15,20,25,30,-35]\n",
        "square(b)"
      ],
      "metadata": {
        "colab": {
          "base_uri": "https://localhost:8080/"
        },
        "id": "FmSLVZTwucfx",
        "outputId": "f1476de7-f54d-4a3d-a6e9-c0f5feefcbf3"
      },
      "execution_count": null,
      "outputs": [
        {
          "output_type": "execute_result",
          "data": {
            "text/plain": [
              "[25, 100, 225, 400, 625, 900, 1225]"
            ]
          },
          "metadata": {},
          "execution_count": 5
        }
      ]
    },
    {
      "cell_type": "code",
      "source": [
        "def square_n(n):\n",
        "  l = []\n",
        "  for i in range(n):\n",
        "    l.append(i**2)\n",
        "  return l"
      ],
      "metadata": {
        "id": "aB9UrCdUzGf5"
      },
      "execution_count": null,
      "outputs": []
    },
    {
      "cell_type": "code",
      "source": [
        "square_n(10)"
      ],
      "metadata": {
        "colab": {
          "base_uri": "https://localhost:8080/"
        },
        "id": "sqJ4-HIRzTqj",
        "outputId": "7cb1237d-929a-4707-e624-36031562b108"
      },
      "execution_count": null,
      "outputs": [
        {
          "output_type": "execute_result",
          "data": {
            "text/plain": [
              "[0, 1, 4, 9, 16, 25, 36, 49, 64, 81]"
            ]
          },
          "metadata": {},
          "execution_count": 8
        }
      ]
    },
    {
      "cell_type": "markdown",
      "source": [
        "**Question 4.** Write a Python function that checks if a given number is prime or not from 1 to 200."
      ],
      "metadata": {
        "id": "FtkIAyeDzb5n"
      }
    },
    {
      "cell_type": "code",
      "source": [
        "def prime(n):\n",
        "  if n<2:\n",
        "    return False\n",
        "  for i in range(2,n):\n",
        "    if n%i ==0:\n",
        "      return False\n",
        "    return True\n",
        "\n"
      ],
      "metadata": {
        "id": "vNEaAiV2z1YK"
      },
      "execution_count": null,
      "outputs": []
    },
    {
      "cell_type": "code",
      "source": [
        "prime(20)"
      ],
      "metadata": {
        "colab": {
          "base_uri": "https://localhost:8080/"
        },
        "id": "dKMlxEjp0Xxy",
        "outputId": "16bd13ef-a25d-44d0-9049-337fbb42b1a2"
      },
      "execution_count": null,
      "outputs": [
        {
          "output_type": "execute_result",
          "data": {
            "text/plain": [
              "False"
            ]
          },
          "metadata": {},
          "execution_count": 19
        }
      ]
    },
    {
      "cell_type": "code",
      "source": [
        "# check and print prime number\n",
        "for i in range(1,201):\n",
        "  if prime(i):\n",
        "    print(i, end = \", \")"
      ],
      "metadata": {
        "colab": {
          "base_uri": "https://localhost:8080/"
        },
        "id": "r_H-RCca0piL",
        "outputId": "99f70018-2ee5-42f4-c56f-426cfd19c377"
      },
      "execution_count": null,
      "outputs": [
        {
          "output_type": "stream",
          "name": "stdout",
          "text": [
            "3, 5, 7, 9, 11, 13, 15, 17, 19, 21, 23, 25, 27, 29, 31, 33, 35, 37, 39, 41, 43, 45, 47, 49, 51, 53, 55, 57, 59, 61, 63, 65, 67, 69, 71, 73, 75, 77, 79, 81, 83, 85, 87, 89, 91, 93, 95, 97, 99, 101, 103, 105, 107, 109, 111, 113, 115, 117, 119, 121, 123, 125, 127, 129, 131, 133, 135, 137, 139, 141, 143, 145, 147, 149, 151, 153, 155, 157, 159, 161, 163, 165, 167, 169, 171, 173, 175, 177, 179, 181, 183, 185, 187, 189, 191, 193, 195, 197, 199, "
          ]
        }
      ]
    },
    {
      "cell_type": "markdown",
      "source": [
        "**Question 5.** Create an iterator class in python that generates the Fibonacci sequence up to a specified number of terms."
      ],
      "metadata": {
        "id": "L_qJ-eoaaQHI"
      }
    },
    {
      "cell_type": "code",
      "source": [
        "def fib(n):\n",
        "  x = 0\n",
        "  y = 1\n",
        "  for i in range(n):\n",
        "    yield x\n",
        "    x, y = y, x+y\n"
      ],
      "metadata": {
        "id": "6I2Yty0uWmV_"
      },
      "execution_count": null,
      "outputs": []
    },
    {
      "cell_type": "code",
      "source": [
        "f = fib(7)\n",
        "f"
      ],
      "metadata": {
        "colab": {
          "base_uri": "https://localhost:8080/"
        },
        "id": "ARJqDyBRZoPN",
        "outputId": "f0c8bdb3-3360-4ae4-dbcd-c6067fb549bb"
      },
      "execution_count": null,
      "outputs": [
        {
          "output_type": "execute_result",
          "data": {
            "text/plain": [
              "<generator object fib at 0x79c3dd6d7680>"
            ]
          },
          "metadata": {},
          "execution_count": 9
        }
      ]
    },
    {
      "cell_type": "code",
      "source": [
        "next(f)"
      ],
      "metadata": {
        "colab": {
          "base_uri": "https://localhost:8080/"
        },
        "id": "rT7c83lbZ4sP",
        "outputId": "b5c57446-a525-4422-f897-eaa67ff22aff"
      },
      "execution_count": null,
      "outputs": [
        {
          "output_type": "execute_result",
          "data": {
            "text/plain": [
              "0"
            ]
          },
          "metadata": {},
          "execution_count": 10
        }
      ]
    },
    {
      "cell_type": "code",
      "source": [
        "next(f)"
      ],
      "metadata": {
        "colab": {
          "base_uri": "https://localhost:8080/"
        },
        "id": "xNo7b5ycZ-dL",
        "outputId": "55706206-00a7-4017-ddb0-f4960d0e2a91"
      },
      "execution_count": null,
      "outputs": [
        {
          "output_type": "execute_result",
          "data": {
            "text/plain": [
              "1"
            ]
          },
          "metadata": {},
          "execution_count": 11
        }
      ]
    },
    {
      "cell_type": "code",
      "source": [
        "next(f)"
      ],
      "metadata": {
        "colab": {
          "base_uri": "https://localhost:8080/"
        },
        "id": "fShRyk4AaD7J",
        "outputId": "4504abc2-2a3e-46f8-c92e-7c9874424edd"
      },
      "execution_count": null,
      "outputs": [
        {
          "output_type": "execute_result",
          "data": {
            "text/plain": [
              "1"
            ]
          },
          "metadata": {},
          "execution_count": 12
        }
      ]
    },
    {
      "cell_type": "code",
      "source": [
        "next(f)"
      ],
      "metadata": {
        "colab": {
          "base_uri": "https://localhost:8080/"
        },
        "id": "Ly2wUJ3QaEmC",
        "outputId": "3376e2d8-a166-47e2-ae8d-a54c981007b1"
      },
      "execution_count": null,
      "outputs": [
        {
          "output_type": "execute_result",
          "data": {
            "text/plain": [
              "2"
            ]
          },
          "metadata": {},
          "execution_count": 13
        }
      ]
    },
    {
      "cell_type": "code",
      "source": [
        "next(f)"
      ],
      "metadata": {
        "colab": {
          "base_uri": "https://localhost:8080/"
        },
        "id": "ANh7prDjaFRe",
        "outputId": "ea805160-36f5-4bc4-bde1-4fc09c64a335"
      },
      "execution_count": null,
      "outputs": [
        {
          "output_type": "execute_result",
          "data": {
            "text/plain": [
              "3"
            ]
          },
          "metadata": {},
          "execution_count": 14
        }
      ]
    },
    {
      "cell_type": "code",
      "source": [
        "next(f)"
      ],
      "metadata": {
        "colab": {
          "base_uri": "https://localhost:8080/"
        },
        "id": "Xs5_IhMiaGbO",
        "outputId": "fca6abd0-452e-4a42-ba77-c1bdb786fc10"
      },
      "execution_count": null,
      "outputs": [
        {
          "output_type": "execute_result",
          "data": {
            "text/plain": [
              "5"
            ]
          },
          "metadata": {},
          "execution_count": 15
        }
      ]
    },
    {
      "cell_type": "code",
      "source": [
        "next(f)"
      ],
      "metadata": {
        "colab": {
          "base_uri": "https://localhost:8080/"
        },
        "id": "c30wwQs_aHIZ",
        "outputId": "b82ab7ea-3f37-4da4-c51f-8d5807f9b9f9"
      },
      "execution_count": null,
      "outputs": [
        {
          "output_type": "execute_result",
          "data": {
            "text/plain": [
              "8"
            ]
          },
          "metadata": {},
          "execution_count": 16
        }
      ]
    },
    {
      "cell_type": "markdown",
      "source": [
        "**Question 6.** Write a generator function in python that yields the power of 2 up to a given exponent."
      ],
      "metadata": {
        "id": "mADlqpVd12ej"
      }
    },
    {
      "cell_type": "code",
      "source": [
        "def power(exp):\n",
        "  for i in range(exp+1):\n",
        "    yield 2**i"
      ],
      "metadata": {
        "id": "X0JkE-6NaIcK"
      },
      "execution_count": null,
      "outputs": []
    },
    {
      "cell_type": "code",
      "source": [
        "x = power(5)\n",
        "x"
      ],
      "metadata": {
        "colab": {
          "base_uri": "https://localhost:8080/"
        },
        "id": "hEvppm3B4nqb",
        "outputId": "95b85b59-6e9c-4882-b66e-51b1329a44ac"
      },
      "execution_count": null,
      "outputs": [
        {
          "output_type": "execute_result",
          "data": {
            "text/plain": [
              "<generator object power at 0x79c3cc8bdbd0>"
            ]
          },
          "metadata": {},
          "execution_count": 28
        }
      ]
    },
    {
      "cell_type": "code",
      "source": [
        "next(x)"
      ],
      "metadata": {
        "colab": {
          "base_uri": "https://localhost:8080/"
        },
        "id": "-ZTB2TGr4uLE",
        "outputId": "992a5f76-d567-40ac-8b48-8e2e3f5dd1f9"
      },
      "execution_count": null,
      "outputs": [
        {
          "output_type": "execute_result",
          "data": {
            "text/plain": [
              "1"
            ]
          },
          "metadata": {},
          "execution_count": 29
        }
      ]
    },
    {
      "cell_type": "code",
      "source": [
        "next(x)"
      ],
      "metadata": {
        "colab": {
          "base_uri": "https://localhost:8080/"
        },
        "id": "VCgy2ri-4yoO",
        "outputId": "67104012-38dd-47d8-9b52-59aedf955c6f"
      },
      "execution_count": null,
      "outputs": [
        {
          "output_type": "execute_result",
          "data": {
            "text/plain": [
              "2"
            ]
          },
          "metadata": {},
          "execution_count": 30
        }
      ]
    },
    {
      "cell_type": "code",
      "source": [
        "next(x)"
      ],
      "metadata": {
        "colab": {
          "base_uri": "https://localhost:8080/"
        },
        "id": "yRXBZO2u40NX",
        "outputId": "cd3d7346-5b91-46b8-9fc6-b1c550e5c703"
      },
      "execution_count": null,
      "outputs": [
        {
          "output_type": "execute_result",
          "data": {
            "text/plain": [
              "4"
            ]
          },
          "metadata": {},
          "execution_count": 31
        }
      ]
    },
    {
      "cell_type": "code",
      "source": [
        "next(x)"
      ],
      "metadata": {
        "colab": {
          "base_uri": "https://localhost:8080/"
        },
        "id": "L_cCX1XU41uB",
        "outputId": "12586612-a564-4b3f-ea39-c0fc5b0e981c"
      },
      "execution_count": null,
      "outputs": [
        {
          "output_type": "execute_result",
          "data": {
            "text/plain": [
              "8"
            ]
          },
          "metadata": {},
          "execution_count": 32
        }
      ]
    },
    {
      "cell_type": "code",
      "source": [
        "next(x)"
      ],
      "metadata": {
        "colab": {
          "base_uri": "https://localhost:8080/"
        },
        "id": "VH3oMoLy43Gl",
        "outputId": "262c8037-ea0e-4e45-b250-df0ba2ee1b92"
      },
      "execution_count": null,
      "outputs": [
        {
          "output_type": "execute_result",
          "data": {
            "text/plain": [
              "16"
            ]
          },
          "metadata": {},
          "execution_count": 33
        }
      ]
    },
    {
      "cell_type": "code",
      "source": [
        "next(x)"
      ],
      "metadata": {
        "colab": {
          "base_uri": "https://localhost:8080/"
        },
        "id": "uLpXR6tS44QF",
        "outputId": "9425df07-686e-46bf-912d-68c92f1213c8"
      },
      "execution_count": null,
      "outputs": [
        {
          "output_type": "execute_result",
          "data": {
            "text/plain": [
              "32"
            ]
          },
          "metadata": {},
          "execution_count": 34
        }
      ]
    },
    {
      "cell_type": "markdown",
      "source": [
        "**Question 7.** Implement a generator function that reads a file line by line and yields each line as a string."
      ],
      "metadata": {
        "id": "NZlqWjt9ExMk"
      }
    },
    {
      "cell_type": "code",
      "source": [
        "def read_file(file_path):\n",
        "    with open(file_path, 'r') as file:\n",
        "        for line in file:\n",
        "            yield line"
      ],
      "metadata": {
        "id": "UgH3DhreIpUW"
      },
      "execution_count": null,
      "outputs": []
    },
    {
      "cell_type": "code",
      "source": [
        "for line in read_file('/content/earth_facts.txt'):\n",
        "    print(line)"
      ],
      "metadata": {
        "colab": {
          "base_uri": "https://localhost:8080/"
        },
        "id": "x0Tm-NUKNtwh",
        "outputId": "7fb1260e-550a-4a19-bebf-b5884411797b"
      },
      "execution_count": null,
      "outputs": [
        {
          "output_type": "stream",
          "name": "stdout",
          "text": [
            "Earth is the third planet from the Sun.\n",
            "\n",
            "It is the only astronomical object known to harbor life.\n",
            "\n",
            "About 71% of Earth's surface is covered by water.\n",
            "\n",
            "The remaining 29% is land consisting of continents and islands.\n"
          ]
        }
      ]
    },
    {
      "cell_type": "markdown",
      "source": [
        "**Question 8.** Use a lambda function in python to sort a list of tuples based on the second element of each tuple."
      ],
      "metadata": {
        "id": "skFTLSFyGvYn"
      }
    },
    {
      "cell_type": "code",
      "source": [
        "t = [(1,7),(2,4),(5,2)]\n",
        "sorted(t,key = lambda x:x[1])"
      ],
      "metadata": {
        "colab": {
          "base_uri": "https://localhost:8080/"
        },
        "id": "aArF_SM_HaPi",
        "outputId": "73c9ed6a-547f-445c-ed40-c392eb2ed19c"
      },
      "execution_count": null,
      "outputs": [
        {
          "output_type": "execute_result",
          "data": {
            "text/plain": [
              "[(5, 2), (2, 4), (1, 7)]"
            ]
          },
          "metadata": {},
          "execution_count": 40
        }
      ]
    },
    {
      "cell_type": "markdown",
      "source": [
        "**Question 9.** Write a Python program that uses map() to convert a list of temperatures from Celsius to Fahrenheit.\n"
      ],
      "metadata": {
        "id": "_uHZ6CBI10rG"
      }
    },
    {
      "cell_type": "code",
      "source": [
        "l = [0, 20, 33, 50, 100]\n",
        "list(map(lambda x : x*(9/5)+32, l))"
      ],
      "metadata": {
        "colab": {
          "base_uri": "https://localhost:8080/"
        },
        "id": "eBDVWuVp-ug5",
        "outputId": "603ef8e6-d8f4-4fa2-83b7-c02ac0cbf289"
      },
      "execution_count": null,
      "outputs": [
        {
          "output_type": "execute_result",
          "data": {
            "text/plain": [
              "[32.0, 68.0, 91.4, 122.0, 212.0]"
            ]
          },
          "metadata": {},
          "execution_count": 37
        }
      ]
    },
    {
      "cell_type": "markdown",
      "source": [
        "**Question 10.** Create a python program that uses filter() to remove all the vowels from a given string."
      ],
      "metadata": {
        "id": "LZOndaQb_pAZ"
      }
    },
    {
      "cell_type": "code",
      "source": [
        "input = \"Hello Python\"\n",
        "vowels = \"aeiouAEIOU\"\n",
        "filtered = filter(lambda i: i not in vowels, input)\n",
        "\n",
        "result = \"\"\n",
        "for i in filtered:\n",
        "    result = result +i\n",
        "\n",
        "print(result)"
      ],
      "metadata": {
        "colab": {
          "base_uri": "https://localhost:8080/"
        },
        "id": "gKS1Z8P9NPFz",
        "outputId": "a3c9c6dc-408d-42e7-926e-0df7f32980ce"
      },
      "execution_count": null,
      "outputs": [
        {
          "output_type": "stream",
          "name": "stdout",
          "text": [
            "Hll Pythn\n"
          ]
        }
      ]
    },
    {
      "cell_type": "markdown",
      "source": [
        "**Question 11**. Imagine an accounting routine used in a book shop. It works on a liat with sublists, which look like this:\n",
        "Write a python program, which returns a list with\n",
        "-tuples. Each tuple consists of the order number and the product of the price per item and the quantity. The product should be increased by 10€, if the value of the order is smaller than 100€.\n",
        "Write a python program using lambda and map.\n",
        "\n",
        "---\n",
        "\n",
        "\n",
        "\n"
      ],
      "metadata": {
        "id": "4w_fVykeSiH7"
      }
    },
    {
      "cell_type": "code",
      "source": [
        " l = \"\"\"order number\\tBook Title and Author\\t\\t\\tQuantity\\tPrice per item\\n\n",
        "34587\\t\\tLearning Python, Mark Lutz\\t\\t  4\\t\\t40.95\\n\n",
        "98762\\t\\tProgramlming Python, Mark Lutz\\t\\t  5\\t\\t56.80\\n\n",
        "77226\\t\\tHead First Python, Paul Barry\\t \\t  3\\t\\t32.95\\n\n",
        "88112\\t\\tführung in PythEinon3, Bernd Klein\\t  3\\t\\t24.99\"\"\"\n",
        "print(l)"
      ],
      "metadata": {
        "colab": {
          "base_uri": "https://localhost:8080/"
        },
        "id": "oRxdXI2WYwzC",
        "outputId": "8eaaf7bd-3d81-43d7-eeed-649a81af2c2f"
      },
      "execution_count": null,
      "outputs": [
        {
          "output_type": "stream",
          "name": "stdout",
          "text": [
            "order number\tBook Title and Author\t\t\tQuantity\tPrice per item\n",
            "\n",
            "34587\t\tLearning Python, Mark Lutz\t\t  4\t\t40.95\n",
            "\n",
            "98762\t\tProgramlming Python, Mark Lutz\t\t  5\t\t56.80\n",
            "\n",
            "77226\t\tHead First Python, Paul Barry\t \t  3\t\t32.95\n",
            "\n",
            "88112\t\tführung in PythEinon3, Bernd Klein\t  3\t\t24.99\n"
          ]
        }
      ]
    },
    {
      "cell_type": "code",
      "source": [
        "# List of orders\n",
        "orders = [\n",
        "    [34587, \"Learning Python, Mark Lutz\", 4, 40.95],\n",
        "    [98762, \"Programming Python, Mark Lutz\", 5, 56.80],\n",
        "    [77226, \"Head First Python, Paul Barry\", 3, 32.95],\n",
        "    [88112, \"Eührung in PythEinon3, Bernd Klein\", 3, 24.99]\n",
        "]\n",
        "\n",
        "# Function to calculate total cost with condition\n",
        "def calculate_order_totals(orders):\n",
        "    result = []\n",
        "    for order in orders:\n",
        "        order_number = order[0]\n",
        "        quantity = order[2]\n",
        "        price_per_item = order[3]\n",
        "        total_cost = quantity * price_per_item\n",
        "\n",
        "        # Increase by 10 € if total_cost is less than 100 €\n",
        "        if total_cost < 100:\n",
        "            total_cost += 10\n",
        "\n",
        "        # Append the tuple (order_number, total_cost) to the result list\n",
        "        result.append((order_number, round(total_cost, 2)))\n",
        "\n",
        "    return result\n",
        "\n",
        "# Call the function and print the result\n",
        "order_totals = calculate_order_totals(orders)\n",
        "print(order_totals)\n",
        "\n",
        "[(34587, 163.8), (98762, 284.0), (77226, 108.85), (88112, 84.97)]"
      ],
      "metadata": {
        "id": "VBbgcD4sNWbL",
        "colab": {
          "base_uri": "https://localhost:8080/"
        },
        "outputId": "2e9f4673-cb63-4bb8-f445-0cfbb26b2a9c"
      },
      "execution_count": 1,
      "outputs": [
        {
          "output_type": "stream",
          "name": "stdout",
          "text": [
            "[(34587, 163.8), (98762, 284.0), (77226, 108.85), (88112, 84.97)]\n"
          ]
        },
        {
          "output_type": "execute_result",
          "data": {
            "text/plain": [
              "[(34587, 163.8), (98762, 284.0), (77226, 108.85), (88112, 84.97)]"
            ]
          },
          "metadata": {},
          "execution_count": 1
        }
      ]
    },
    {
      "cell_type": "code",
      "source": [],
      "metadata": {
        "id": "V6mjdEtJXm8l"
      },
      "execution_count": null,
      "outputs": []
    }
  ]
}